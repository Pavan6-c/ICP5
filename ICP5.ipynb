{
  "nbformat": 4,
  "nbformat_minor": 0,
  "metadata": {
    "colab": {
      "provenance": [],
      "include_colab_link": true
    },
    "kernelspec": {
      "name": "python3",
      "display_name": "Python 3"
    },
    "language_info": {
      "name": "python"
    }
  },
  "cells": [
    {
      "cell_type": "markdown",
      "metadata": {
        "id": "view-in-github",
        "colab_type": "text"
      },
      "source": [
        "<a href=\"https://colab.research.google.com/github/Pavan6-c/ICP5/blob/main/ICP5.ipynb\" target=\"_parent\"><img src=\"https://colab.research.google.com/assets/colab-badge.svg\" alt=\"Open In Colab\"/></a>"
      ]
    },
    {
      "cell_type": "code",
      "execution_count": 20,
      "metadata": {
        "id": "nSc3IOaQNQu2",
        "colab": {
          "base_uri": "https://localhost:8080/"
        },
        "outputId": "fe4cf56b-8164-433b-abdb-66bdd2f5f11b"
      },
      "outputs": [
        {
          "output_type": "stream",
          "name": "stdout",
          "text": [
            "Best parameters found: {'classifier__C': 0.1, 'classifier__kernel': 'linear', 'pca__n_components': 3}\n",
            "Best cross-validation score: 0.96\n",
            "Test set score: 1.00\n"
          ]
        }
      ],
      "source": [
        "from sklearn.datasets import load_iris\n",
        "from sklearn.model_selection import GridSearchCV, train_test_split\n",
        "from sklearn.preprocessing import StandardScaler\n",
        "from sklearn.decomposition import PCA\n",
        "from sklearn.svm import SVC\n",
        "from sklearn.pipeline import Pipeline\n",
        "\n",
        "# 1. Load dataset\n",
        "X, y = load_iris(return_X_y=True)\n",
        "X_train, X_test, y_train, y_test = train_test_split(X, y, test_size=0.2, random_state=42)\n",
        "\n",
        "# 2. Create pipeline\n",
        "pipe = Pipeline([\n",
        "    ('scaler', StandardScaler()),\n",
        "    ('pca', PCA()),\n",
        "    ('classifier', SVC())\n",
        "])\n",
        "\n",
        "# 3. Define parameter grid\n",
        "param_grid = {\n",
        "    'pca__n_components': [2, 3],\n",
        "    'classifier__C': [0.1, 1, 10],\n",
        "    'classifier__kernel': ['linear', 'rbf']\n",
        "}\n",
        "\n",
        "# 4. GridSearchCV\n",
        "grid = GridSearchCV(pipe, param_grid)\n",
        "grid.fit(X_train, y_train)\n",
        "\n",
        "# 5. Results\n",
        "print(\"Best parameters found:\", grid.best_params_)\n",
        "print(\"Best cross-validation score: {:.2f}\".format(grid.best_score_))\n",
        "print(\"Test set score: {:.2f}\".format(grid.score(X_test, y_test)))\n"
      ]
    },
    {
      "cell_type": "markdown",
      "source": [
        "Check for 3 fold, 5 fold and 7 fold cross validation\n",
        "\n",
        "Replace classifier, SVC with RandomForestClassifier and LogisticRegression, Perceptron, knn .\n",
        "\n",
        "Update the param_grid accordingly (e.g., for RandomForestClassifier, use n_estimators, max_depth, etc.)\n",
        "\n",
        "Also replace Gridsearch with randomnsearch function.\n",
        "\n",
        "Relplace with with your own csv dataset using code below:"
      ],
      "metadata": {
        "id": "tqJp7J-jNbu6"
      }
    },
    {
      "cell_type": "code",
      "source": [
        "# Random Forest with RandomizedSearchCV\n",
        "import pandas as pd\n",
        "from sklearn.model_selection import train_test_split, RandomizedSearchCV\n",
        "from sklearn.pipeline import Pipeline\n",
        "from sklearn.preprocessing import StandardScaler\n",
        "from sklearn.decomposition import PCA\n",
        "from sklearn.ensemble import RandomForestClassifier\n",
        "from scipy.stats import randint\n",
        "\n",
        "data = pd.read_csv(\"pd_speech_features.csv\")\n",
        "\n",
        "X = data.drop(columns=['id', 'gender'])\n",
        "y = data['gender']\n",
        "\n",
        "X_train, X_test, y_train, y_test = train_test_split(X, y, test_size=0.2, random_state=42)\n",
        "\n",
        "param_grid = {\n",
        "    'pca__n_components': [2, 3],\n",
        "    'classifier__n_estimators': randint(50, 200),\n",
        "    'classifier__max_depth': randint(3, 15),\n",
        "    'classifier__min_samples_split': randint(2, 10)\n",
        "}\n",
        "\n",
        "for cv in [3, 5, 7]:\n",
        "    print(f\"\\nRandomForest - {cv}-fold CV\")\n",
        "    pipe = Pipeline([\n",
        "        ('scaler', StandardScaler()),\n",
        "        ('pca', PCA()),\n",
        "        ('classifier', RandomForestClassifier(random_state=42))\n",
        "    ])\n",
        "\n",
        "    random_search = RandomizedSearchCV(\n",
        "        pipe,\n",
        "        param_distributions=param_grid,\n",
        "        n_iter=20,\n",
        "        cv=cv,\n",
        "        random_state=42,\n",
        "        n_jobs=-1\n",
        "    )\n",
        "    random_search.fit(X_train, y_train)\n",
        "\n",
        "    print(\"Best params:\", random_search.best_params_)\n",
        "    print(\"Best CV score: {:.3f}\".format(random_search.best_score_))\n",
        "    print(\"Test score: {:.3f}\".format(random_search.score(X_test, y_test)))"
      ],
      "metadata": {
        "colab": {
          "base_uri": "https://localhost:8080/"
        },
        "id": "NN8ysa41zKQn",
        "outputId": "a2cac758-9be1-488d-f48f-518207fda194"
      },
      "execution_count": 21,
      "outputs": [
        {
          "output_type": "stream",
          "name": "stdout",
          "text": [
            "\n",
            "RandomForest - 3-fold CV\n",
            "Best params: {'classifier__max_depth': 11, 'classifier__min_samples_split': 5, 'classifier__n_estimators': 63, 'pca__n_components': 3}\n",
            "Best CV score: 0.811\n",
            "Test score: 0.842\n",
            "\n",
            "RandomForest - 5-fold CV\n",
            "Best params: {'classifier__max_depth': 10, 'classifier__min_samples_split': 6, 'classifier__n_estimators': 149, 'pca__n_components': 3}\n",
            "Best CV score: 0.833\n",
            "Test score: 0.829\n",
            "\n",
            "RandomForest - 7-fold CV\n",
            "Best params: {'classifier__max_depth': 5, 'classifier__min_samples_split': 7, 'classifier__n_estimators': 130, 'pca__n_components': 3}\n",
            "Best CV score: 0.829\n",
            "Test score: 0.822\n"
          ]
        }
      ]
    },
    {
      "cell_type": "code",
      "source": [
        "# Logistic Regression with RandomizedSearchCV\n",
        "from sklearn.linear_model import LogisticRegression\n",
        "from sklearn.pipeline import Pipeline\n",
        "from sklearn.preprocessing import StandardScaler\n",
        "from sklearn.decomposition import PCA\n",
        "from sklearn.model_selection import RandomizedSearchCV\n",
        "\n",
        "pipe_lr = Pipeline([\n",
        "    ('scaler', StandardScaler()),\n",
        "    ('pca', PCA()),\n",
        "    ('classifier', LogisticRegression(max_iter=1000, random_state=42))\n",
        "])\n",
        "\n",
        "param_dist_lr = {\n",
        "    'pca__n_components': [2, 3],\n",
        "    'classifier__C': [0.01, 0.1, 1, 10],\n",
        "    'classifier__penalty': ['l2'],\n",
        "    'classifier__solver': ['lbfgs']\n",
        "}\n",
        "\n",
        "for cv in [3, 5, 7]:\n",
        "    search_lr = RandomizedSearchCV(\n",
        "        pipe_lr,\n",
        "        param_distributions=param_dist_lr,\n",
        "        n_iter=5,\n",
        "        cv=cv,\n",
        "        random_state=42,\n",
        "        n_jobs=-1\n",
        "    )\n",
        "    search_lr.fit(X_train, y_train)\n",
        "    print(f\"\\nLogisticRegression (cv={cv}):\")\n",
        "    print(\"Best Params:\", search_lr.best_params_)\n",
        "    print(\"Train CV Score: {:.2f}\".format(search_lr.best_score_))\n",
        "    print(\"Test Score: {:.2f}\".format(search_lr.score(X_test, y_test)))\n"
      ],
      "metadata": {
        "colab": {
          "base_uri": "https://localhost:8080/"
        },
        "id": "82gaAUMVF8Hp",
        "outputId": "41795afa-c41f-4339-ec80-adbfa46cbb85"
      },
      "execution_count": 22,
      "outputs": [
        {
          "output_type": "stream",
          "name": "stdout",
          "text": [
            "\n",
            "LogisticRegression (cv=3):\n",
            "Best Params: {'pca__n_components': 3, 'classifier__solver': 'lbfgs', 'classifier__penalty': 'l2', 'classifier__C': 1}\n",
            "Train CV Score: 0.80\n",
            "Test Score: 0.80\n",
            "\n",
            "LogisticRegression (cv=5):\n",
            "Best Params: {'pca__n_components': 3, 'classifier__solver': 'lbfgs', 'classifier__penalty': 'l2', 'classifier__C': 1}\n",
            "Train CV Score: 0.80\n",
            "Test Score: 0.80\n",
            "\n",
            "LogisticRegression (cv=7):\n",
            "Best Params: {'pca__n_components': 3, 'classifier__solver': 'lbfgs', 'classifier__penalty': 'l2', 'classifier__C': 1}\n",
            "Train CV Score: 0.81\n",
            "Test Score: 0.80\n"
          ]
        }
      ]
    },
    {
      "cell_type": "code",
      "source": [
        "# Perceptron with RandomizedSearchCV\n",
        "from sklearn.linear_model import Perceptron\n",
        "from sklearn.pipeline import Pipeline\n",
        "from sklearn.preprocessing import StandardScaler\n",
        "from sklearn.decomposition import PCA\n",
        "from sklearn.model_selection import RandomizedSearchCV\n",
        "\n",
        "pipe_perc = Pipeline([\n",
        "    ('scaler', StandardScaler()),\n",
        "    ('pca', PCA()),\n",
        "    ('classifier', Perceptron(random_state=42))\n",
        "])\n",
        "\n",
        "param_dist_perc = {\n",
        "    'pca__n_components': [2, 3],\n",
        "    'classifier__penalty': ['l2', None],\n",
        "    'classifier__alpha': [0.0001, 0.001, 0.01]\n",
        "}\n",
        "\n",
        "for cv in [3, 5, 7]:\n",
        "    search_perc = RandomizedSearchCV(\n",
        "        pipe_perc,\n",
        "        param_distributions=param_dist_perc,\n",
        "        n_iter=5,\n",
        "        cv=cv,\n",
        "        random_state=42,\n",
        "        n_jobs=-1\n",
        "    )\n",
        "    search_perc.fit(X_train, y_train)\n",
        "    print(f\"\\nPerceptron (cv={cv}):\")\n",
        "    print(\"Best Params:\", search_perc.best_params_)\n",
        "    print(\"Train CV Score: {:.2f}\".format(search_perc.best_score_))\n",
        "    print(\"Test Score: {:.2f}\".format(search_perc.score(X_test, y_test)))\n"
      ],
      "metadata": {
        "colab": {
          "base_uri": "https://localhost:8080/"
        },
        "id": "FRLc81hVGSxB",
        "outputId": "9317e710-3dfc-4c3d-e6e6-7c8427b8d557"
      },
      "execution_count": 23,
      "outputs": [
        {
          "output_type": "stream",
          "name": "stdout",
          "text": [
            "\n",
            "Perceptron (cv=3):\n",
            "Best Params: {'pca__n_components': 2, 'classifier__penalty': 'l2', 'classifier__alpha': 0.0001}\n",
            "Train CV Score: 0.77\n",
            "Test Score: 0.81\n",
            "\n",
            "Perceptron (cv=5):\n",
            "Best Params: {'pca__n_components': 2, 'classifier__penalty': 'l2', 'classifier__alpha': 0.0001}\n",
            "Train CV Score: 0.77\n",
            "Test Score: 0.81\n",
            "\n",
            "Perceptron (cv=7):\n",
            "Best Params: {'pca__n_components': 3, 'classifier__penalty': 'l2', 'classifier__alpha': 0.001}\n",
            "Train CV Score: 0.76\n",
            "Test Score: 0.54\n"
          ]
        }
      ]
    },
    {
      "cell_type": "code",
      "source": [
        "# KNN with RandomizedSearchCV\n",
        "from sklearn.neighbors import KNeighborsClassifier\n",
        "from sklearn.pipeline import Pipeline\n",
        "from sklearn.preprocessing import StandardScaler\n",
        "from sklearn.decomposition import PCA\n",
        "from sklearn.model_selection import RandomizedSearchCV\n",
        "\n",
        "pipe_knn = Pipeline([\n",
        "    ('scaler', StandardScaler()),\n",
        "    ('pca', PCA()),\n",
        "    ('classifier', KNeighborsClassifier())\n",
        "])\n",
        "\n",
        "param_dist_knn = {\n",
        "    'pca__n_components': [2, 3],\n",
        "    'classifier__n_neighbors': [3, 5, 7],\n",
        "    'classifier__weights': ['uniform', 'distance']\n",
        "}\n",
        "\n",
        "for cv in [3, 5, 7]:\n",
        "    search_knn = RandomizedSearchCV(\n",
        "        pipe_knn,\n",
        "        param_distributions=param_dist_knn,\n",
        "        n_iter=5,\n",
        "        cv=cv,\n",
        "        random_state=42,\n",
        "        n_jobs=-1\n",
        "    )\n",
        "    search_knn.fit(X_train, y_train)\n",
        "    print(f\"\\nKNN (cv={cv}):\")\n",
        "    print(\"Best Params:\", search_knn.best_params_)\n",
        "    print(\"Train CV Score: {:.2f}\".format(search_knn.best_score_))\n",
        "    print(\"Test Score: {:.2f}\".format(search_knn.score(X_test, y_test)))\n"
      ],
      "metadata": {
        "colab": {
          "base_uri": "https://localhost:8080/"
        },
        "id": "obN8AypvGY4e",
        "outputId": "93535458-c444-4ca8-f896-e28fcff9d13a"
      },
      "execution_count": 24,
      "outputs": [
        {
          "output_type": "stream",
          "name": "stdout",
          "text": [
            "\n",
            "KNN (cv=3):\n",
            "Best Params: {'pca__n_components': 3, 'classifier__weights': 'uniform', 'classifier__n_neighbors': 5}\n",
            "Train CV Score: 0.82\n",
            "Test Score: 0.84\n",
            "\n",
            "KNN (cv=5):\n",
            "Best Params: {'pca__n_components': 3, 'classifier__weights': 'uniform', 'classifier__n_neighbors': 5}\n",
            "Train CV Score: 0.82\n",
            "Test Score: 0.84\n",
            "\n",
            "KNN (cv=7):\n",
            "Best Params: {'pca__n_components': 3, 'classifier__weights': 'uniform', 'classifier__n_neighbors': 5}\n",
            "Train CV Score: 0.82\n",
            "Test Score: 0.84\n"
          ]
        }
      ]
    },
    {
      "cell_type": "code",
      "source": [
        "# SVM with GridSearchCV\n",
        "import pandas as pd\n",
        "from sklearn.model_selection import train_test_split, GridSearchCV\n",
        "from sklearn.pipeline import Pipeline\n",
        "from sklearn.preprocessing import StandardScaler\n",
        "from sklearn.decomposition import PCA\n",
        "from sklearn.svm import SVC\n",
        "\n",
        "data = pd.read_csv(\"pd_speech_features.csv\")\n",
        "\n",
        "X = data.drop(columns=['id', 'gender'])\n",
        "y = data['gender']\n",
        "\n",
        "X_train, X_test, y_train, y_test = train_test_split(\n",
        "    X, y, test_size=0.2, random_state=42\n",
        ")\n",
        "\n",
        "pipe = Pipeline([\n",
        "    ('scaler', StandardScaler()),\n",
        "    ('pca', PCA()),\n",
        "    ('classifier', SVC())\n",
        "])\n",
        "\n",
        "param_grid = {\n",
        "    'pca__n_components': [2, 3],\n",
        "    'classifier__C': [0.1, 1, 10],\n",
        "    'classifier__kernel': ['linear', 'rbf']\n",
        "}\n",
        "\n",
        "grid = GridSearchCV(\n",
        "    pipe,\n",
        "    param_grid=param_grid,\n",
        "    cv=5,\n",
        "    n_jobs=-1\n",
        ")\n",
        "grid.fit(X_train, y_train)\n",
        "\n",
        "print(\"Best parameters found:\", grid.best_params_)\n",
        "print(\"Best cross-validation score: {:.2f}\".format(grid.best_score_))\n",
        "print(\"Test set score: {:.2f}\".format(grid.score(X_test, y_test)))\n"
      ],
      "metadata": {
        "colab": {
          "base_uri": "https://localhost:8080/"
        },
        "id": "28Df_ziXxNkS",
        "outputId": "67730b28-f7ab-41e4-c8dc-5081f1240df9"
      },
      "execution_count": 25,
      "outputs": [
        {
          "output_type": "stream",
          "name": "stdout",
          "text": [
            "Best parameters found: {'classifier__C': 10, 'classifier__kernel': 'rbf', 'pca__n_components': 3}\n",
            "Best cross-validation score: 0.83\n",
            "Test set score: 0.85\n"
          ]
        }
      ]
    },
    {
      "cell_type": "code",
      "source": [
        "# Logistic Regression with RandomizedSearchCV\n",
        "import pandas as pd\n",
        "from sklearn.model_selection import train_test_split, RandomizedSearchCV\n",
        "from sklearn.pipeline import Pipeline\n",
        "from sklearn.preprocessing import StandardScaler\n",
        "from sklearn.decomposition import PCA\n",
        "from sklearn.linear_model import LogisticRegression\n",
        "from scipy.stats import uniform\n",
        "\n",
        "data = pd.read_csv(\"pd_speech_features.csv\")\n",
        "\n",
        "X = data.drop(columns=['id', 'gender'])\n",
        "y = data['gender']\n",
        "\n",
        "X_train, X_test, y_train, y_test = train_test_split(\n",
        "    X, y, test_size=0.2, random_state=42\n",
        ")\n",
        "\n",
        "param_grid = {\n",
        "    'pca__n_components': [2, 3, 5],\n",
        "    'classifier__C': uniform(0.01, 10),\n",
        "    'classifier__penalty': ['l2'],\n",
        "    'classifier__solver': ['lbfgs']\n",
        "}\n",
        "\n",
        "for cv in [3, 5, 7]:\n",
        "    print(f\"\\nLogisticRegression - {cv}-fold CV\")\n",
        "    pipe = Pipeline([\n",
        "        ('scaler', StandardScaler()),\n",
        "        ('pca', PCA()),\n",
        "        ('classifier', LogisticRegression(max_iter=1000, random_state=42))\n",
        "    ])\n",
        "\n",
        "    random_search = RandomizedSearchCV(\n",
        "        pipe,\n",
        "        param_distributions=param_grid,\n",
        "        n_iter=20,\n",
        "        cv=cv,\n",
        "        random_state=42,\n",
        "        n_jobs=-1\n",
        "    )\n",
        "    random_search.fit(X_train, y_train)\n",
        "\n",
        "    print(\"Best params:\", random_search.best_params_)\n",
        "    print(\"Best CV score: {:.3f}\".format(random_search.best_score_))\n",
        "    print(\"Test score: {:.3f}\".format(random_search.score(X_test, y_test)))\n"
      ],
      "metadata": {
        "colab": {
          "base_uri": "https://localhost:8080/"
        },
        "id": "Fg2bJr6B0I_M",
        "outputId": "085f47ac-01bd-432f-a25e-d1a7de86b27e"
      },
      "execution_count": 26,
      "outputs": [
        {
          "output_type": "stream",
          "name": "stdout",
          "text": [
            "\n",
            "LogisticRegression - 3-fold CV\n",
            "Best params: {'classifier__C': np.float64(1.5699452033620265), 'classifier__penalty': 'l2', 'classifier__solver': 'lbfgs', 'pca__n_components': 5}\n",
            "Best CV score: 0.815\n",
            "Test score: 0.836\n",
            "\n",
            "LogisticRegression - 5-fold CV\n",
            "Best params: {'classifier__C': np.float64(1.5699452033620265), 'classifier__penalty': 'l2', 'classifier__solver': 'lbfgs', 'pca__n_components': 5}\n",
            "Best CV score: 0.820\n",
            "Test score: 0.836\n",
            "\n",
            "LogisticRegression - 7-fold CV\n",
            "Best params: {'classifier__C': np.float64(1.5699452033620265), 'classifier__penalty': 'l2', 'classifier__solver': 'lbfgs', 'pca__n_components': 5}\n",
            "Best CV score: 0.828\n",
            "Test score: 0.836\n"
          ]
        }
      ]
    },
    {
      "cell_type": "code",
      "source": [
        "# Perceptron with RandomizedSearchCV\n",
        "import pandas as pd\n",
        "from sklearn.model_selection import train_test_split, RandomizedSearchCV\n",
        "from sklearn.pipeline import Pipeline\n",
        "from sklearn.preprocessing import StandardScaler\n",
        "from sklearn.decomposition import PCA\n",
        "from sklearn.linear_model import Perceptron\n",
        "from scipy.stats import uniform\n",
        "\n",
        "data = pd.read_csv(\"pd_speech_features.csv\")\n",
        "\n",
        "X = data.drop(columns=['id', 'gender'])\n",
        "y = data['gender']\n",
        "\n",
        "X_train, X_test, y_train, y_test = train_test_split(\n",
        "    X, y, test_size=0.2, random_state=42\n",
        ")\n",
        "\n",
        "param_grid = {\n",
        "    'pca__n_components': [2, 3],\n",
        "    'classifier__alpha': uniform(0.0001, 0.01),\n",
        "    'classifier__penalty': [None, 'l2', 'l1', 'elasticnet']\n",
        "}\n",
        "\n",
        "for cv in [3, 5, 7]:\n",
        "    print(f\"\\nPerceptron - {cv}-fold CV\")\n",
        "    pipe = Pipeline([\n",
        "        ('scaler', StandardScaler()),\n",
        "        ('pca', PCA()),\n",
        "        ('classifier', Perceptron(max_iter=1000, random_state=42))\n",
        "    ])\n",
        "\n",
        "    random_search = RandomizedSearchCV(\n",
        "        pipe,\n",
        "        param_distributions=param_grid,\n",
        "        n_iter=20,\n",
        "        cv=cv,\n",
        "        random_state=42,\n",
        "        n_jobs=-1\n",
        "    )\n",
        "    random_search.fit(X_train, y_train)\n",
        "\n",
        "    print(\"Best params:\", random_search.best_params_)\n",
        "    print(\"Best CV score: {:.3f}\".format(random_search.best_score_))\n",
        "    print(\"Test score: {:.3f}\".format(random_search.score(X_test, y_test)))\n"
      ],
      "metadata": {
        "colab": {
          "base_uri": "https://localhost:8080/"
        },
        "id": "C1ZfApBx0OVI",
        "outputId": "4eed0555-38f1-42ca-8e18-3c07c16ee396"
      },
      "execution_count": 27,
      "outputs": [
        {
          "output_type": "stream",
          "name": "stdout",
          "text": [
            "\n",
            "Perceptron - 3-fold CV\n",
            "Best params: {'classifier__alpha': np.float64(0.004660699842170359), 'classifier__penalty': 'l1', 'pca__n_components': 3}\n",
            "Best CV score: 0.768\n",
            "Test score: 0.730\n",
            "\n",
            "Perceptron - 5-fold CV\n",
            "Best params: {'classifier__alpha': np.float64(0.0003058449429580245), 'classifier__penalty': 'l2', 'pca__n_components': 3}\n",
            "Best CV score: 0.765\n",
            "Test score: 0.401\n",
            "\n",
            "Perceptron - 7-fold CV\n",
            "Best params: {'classifier__alpha': np.float64(0.002096737821583597), 'classifier__penalty': 'l1', 'pca__n_components': 3}\n",
            "Best CV score: 0.790\n",
            "Test score: 0.618\n"
          ]
        }
      ]
    },
    {
      "cell_type": "code",
      "source": [
        "# Load dataset\n",
        "import pandas as pd\n",
        "from sklearn.model_selection import train_test_split, RandomizedSearchCV\n",
        "from sklearn.pipeline import Pipeline\n",
        "from sklearn.preprocessing import StandardScaler\n",
        "from sklearn.decomposition import PCA\n",
        "from sklearn.neighbors import KNeighborsClassifier\n",
        "from scipy.stats import randint\n",
        "\n",
        "data = pd.read_csv(\"pd_speech_features.csv\")\n",
        "\n",
        "X = data.drop(columns=['id', 'gender'])\n",
        "y = data['gender']\n",
        "\n",
        "X_train, X_test, y_train, y_test = train_test_split(\n",
        "    X, y, test_size=0.2, random_state=42\n",
        ")\n",
        "\n",
        "# Define parameter grid\n",
        "param_grid = {\n",
        "    'pca__n_components': [2, 3],\n",
        "    'classifier__n_neighbors': randint(3, 20),\n",
        "    'classifier__weights': ['uniform', 'distance'],\n",
        "    'classifier__p': [1, 2]\n",
        "}\n",
        "\n",
        "# RandomSearchCV with KNN\n",
        "for cv in [3, 5, 7]:\n",
        "    print(f\"\\nKNN - {cv}-fold CV\")\n",
        "    pipe = Pipeline([\n",
        "        ('scaler', StandardScaler()),\n",
        "        ('pca', PCA()),\n",
        "        ('classifier', KNeighborsClassifier())\n",
        "    ])\n",
        "\n",
        "    random_search = RandomizedSearchCV(\n",
        "        pipe,\n",
        "        param_distributions=param_grid,\n",
        "        n_iter=20,\n",
        "        cv=cv,\n",
        "        random_state=42,\n",
        "        n_jobs=-1\n",
        "    )\n",
        "    random_search.fit(X_train, y_train)\n",
        "\n",
        "    print(\"Best params:\", random_search.best_params_)\n",
        "    print(\"Best CV score: {:.3f}\".format(random_search.best_score_))\n",
        "    print(\"Test score: {:.3f}\".format(random_search.score(X_test, y_test)))"
      ],
      "metadata": {
        "colab": {
          "base_uri": "https://localhost:8080/"
        },
        "id": "Qel_GJfK0TRd",
        "outputId": "5f5163f9-ab91-4cbe-ab36-a91863963c83"
      },
      "execution_count": 28,
      "outputs": [
        {
          "output_type": "stream",
          "name": "stdout",
          "text": [
            "\n",
            "KNN - 3-fold CV\n",
            "Best params: {'classifier__n_neighbors': 6, 'classifier__p': 2, 'classifier__weights': 'distance', 'pca__n_components': 3}\n",
            "Best CV score: 0.839\n",
            "Test score: 0.822\n",
            "\n",
            "KNN - 5-fold CV\n",
            "Best params: {'classifier__n_neighbors': 8, 'classifier__p': 2, 'classifier__weights': 'distance', 'pca__n_components': 3}\n",
            "Best CV score: 0.838\n",
            "Test score: 0.836\n",
            "\n",
            "KNN - 7-fold CV\n",
            "Best params: {'classifier__n_neighbors': 4, 'classifier__p': 2, 'classifier__weights': 'distance', 'pca__n_components': 3}\n",
            "Best CV score: 0.843\n",
            "Test score: 0.822\n"
          ]
        }
      ]
    }
  ]
}